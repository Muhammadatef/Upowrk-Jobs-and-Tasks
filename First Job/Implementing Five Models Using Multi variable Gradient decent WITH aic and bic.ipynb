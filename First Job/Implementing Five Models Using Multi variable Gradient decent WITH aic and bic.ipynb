{
 "cells": [
  {
   "cell_type": "code",
   "execution_count": 3,
   "id": "810882db",
   "metadata": {},
   "outputs": [],
   "source": [
    "import numpy as np\n",
    "import pandas as pd\n",
    "import matplotlib.pyplot as plt\n",
    "import seaborn as sns\n",
    "from sklearn.metrics import mean_squared_error"
   ]
  },
  {
   "cell_type": "code",
   "execution_count": 4,
   "id": "20431f3f",
   "metadata": {},
   "outputs": [
    {
     "data": {
      "text/html": [
       "<div>\n",
       "<style scoped>\n",
       "    .dataframe tbody tr th:only-of-type {\n",
       "        vertical-align: middle;\n",
       "    }\n",
       "\n",
       "    .dataframe tbody tr th {\n",
       "        vertical-align: top;\n",
       "    }\n",
       "\n",
       "    .dataframe thead th {\n",
       "        text-align: right;\n",
       "    }\n",
       "</style>\n",
       "<table border=\"1\" class=\"dataframe\">\n",
       "  <thead>\n",
       "    <tr style=\"text-align: right;\">\n",
       "      <th></th>\n",
       "      <th>x1</th>\n",
       "      <th>x2</th>\n",
       "      <th>y</th>\n",
       "      <th>time</th>\n",
       "    </tr>\n",
       "  </thead>\n",
       "  <tbody>\n",
       "    <tr>\n",
       "      <th>0</th>\n",
       "      <td>-1.383423</td>\n",
       "      <td>0</td>\n",
       "      <td>10.677616</td>\n",
       "      <td>0.1</td>\n",
       "    </tr>\n",
       "    <tr>\n",
       "      <th>1</th>\n",
       "      <td>0.491178</td>\n",
       "      <td>0</td>\n",
       "      <td>18.885513</td>\n",
       "      <td>0.2</td>\n",
       "    </tr>\n",
       "    <tr>\n",
       "      <th>2</th>\n",
       "      <td>-0.528827</td>\n",
       "      <td>0</td>\n",
       "      <td>11.246081</td>\n",
       "      <td>0.3</td>\n",
       "    </tr>\n",
       "    <tr>\n",
       "      <th>3</th>\n",
       "      <td>-0.359455</td>\n",
       "      <td>0</td>\n",
       "      <td>9.364583</td>\n",
       "      <td>0.4</td>\n",
       "    </tr>\n",
       "    <tr>\n",
       "      <th>4</th>\n",
       "      <td>0.173340</td>\n",
       "      <td>0</td>\n",
       "      <td>13.434298</td>\n",
       "      <td>0.5</td>\n",
       "    </tr>\n",
       "    <tr>\n",
       "      <th>...</th>\n",
       "      <td>...</td>\n",
       "      <td>...</td>\n",
       "      <td>...</td>\n",
       "      <td>...</td>\n",
       "    </tr>\n",
       "    <tr>\n",
       "      <th>195</th>\n",
       "      <td>-0.027111</td>\n",
       "      <td>1</td>\n",
       "      <td>13.368749</td>\n",
       "      <td>19.6</td>\n",
       "    </tr>\n",
       "    <tr>\n",
       "      <th>196</th>\n",
       "      <td>-1.520284</td>\n",
       "      <td>1</td>\n",
       "      <td>13.958111</td>\n",
       "      <td>19.7</td>\n",
       "    </tr>\n",
       "    <tr>\n",
       "      <th>197</th>\n",
       "      <td>-1.227090</td>\n",
       "      <td>1</td>\n",
       "      <td>13.976362</td>\n",
       "      <td>19.8</td>\n",
       "    </tr>\n",
       "    <tr>\n",
       "      <th>198</th>\n",
       "      <td>-0.724484</td>\n",
       "      <td>1</td>\n",
       "      <td>8.581417</td>\n",
       "      <td>19.9</td>\n",
       "    </tr>\n",
       "    <tr>\n",
       "      <th>199</th>\n",
       "      <td>-1.616109</td>\n",
       "      <td>1</td>\n",
       "      <td>12.082913</td>\n",
       "      <td>20.0</td>\n",
       "    </tr>\n",
       "  </tbody>\n",
       "</table>\n",
       "<p>200 rows × 4 columns</p>\n",
       "</div>"
      ],
      "text/plain": [
       "           x1  x2          y  time\n",
       "0   -1.383423   0  10.677616   0.1\n",
       "1    0.491178   0  18.885513   0.2\n",
       "2   -0.528827   0  11.246081   0.3\n",
       "3   -0.359455   0   9.364583   0.4\n",
       "4    0.173340   0  13.434298   0.5\n",
       "..        ...  ..        ...   ...\n",
       "195 -0.027111   1  13.368749  19.6\n",
       "196 -1.520284   1  13.958111  19.7\n",
       "197 -1.227090   1  13.976362  19.8\n",
       "198 -0.724484   1   8.581417  19.9\n",
       "199 -1.616109   1  12.082913  20.0\n",
       "\n",
       "[200 rows x 4 columns]"
      ]
     },
     "execution_count": 4,
     "metadata": {},
     "output_type": "execute_result"
    }
   ],
   "source": [
    "df = pd.read_csv('A:/Upwork/First Job/test1.csv')\n",
    "df"
   ]
  },
  {
   "cell_type": "code",
   "execution_count": 5,
   "id": "0301648e",
   "metadata": {},
   "outputs": [
    {
     "data": {
      "text/plain": [
       "x1      0\n",
       "x2      0\n",
       "y       0\n",
       "time    0\n",
       "dtype: int64"
      ]
     },
     "execution_count": 5,
     "metadata": {},
     "output_type": "execute_result"
    }
   ],
   "source": [
    "df.isnull().sum()"
   ]
  },
  {
   "cell_type": "code",
   "execution_count": 6,
   "id": "74891364",
   "metadata": {},
   "outputs": [
    {
     "data": {
      "text/html": [
       "<div>\n",
       "<style scoped>\n",
       "    .dataframe tbody tr th:only-of-type {\n",
       "        vertical-align: middle;\n",
       "    }\n",
       "\n",
       "    .dataframe tbody tr th {\n",
       "        vertical-align: top;\n",
       "    }\n",
       "\n",
       "    .dataframe thead th {\n",
       "        text-align: right;\n",
       "    }\n",
       "</style>\n",
       "<table border=\"1\" class=\"dataframe\">\n",
       "  <thead>\n",
       "    <tr style=\"text-align: right;\">\n",
       "      <th></th>\n",
       "      <th>x1</th>\n",
       "      <th>x2</th>\n",
       "      <th>y</th>\n",
       "    </tr>\n",
       "  </thead>\n",
       "  <tbody>\n",
       "    <tr>\n",
       "      <th>0</th>\n",
       "      <td>-1.383423</td>\n",
       "      <td>0</td>\n",
       "      <td>10.677616</td>\n",
       "    </tr>\n",
       "    <tr>\n",
       "      <th>1</th>\n",
       "      <td>0.491178</td>\n",
       "      <td>0</td>\n",
       "      <td>18.885513</td>\n",
       "    </tr>\n",
       "    <tr>\n",
       "      <th>2</th>\n",
       "      <td>-0.528827</td>\n",
       "      <td>0</td>\n",
       "      <td>11.246081</td>\n",
       "    </tr>\n",
       "    <tr>\n",
       "      <th>3</th>\n",
       "      <td>-0.359455</td>\n",
       "      <td>0</td>\n",
       "      <td>9.364583</td>\n",
       "    </tr>\n",
       "    <tr>\n",
       "      <th>4</th>\n",
       "      <td>0.173340</td>\n",
       "      <td>0</td>\n",
       "      <td>13.434298</td>\n",
       "    </tr>\n",
       "    <tr>\n",
       "      <th>...</th>\n",
       "      <td>...</td>\n",
       "      <td>...</td>\n",
       "      <td>...</td>\n",
       "    </tr>\n",
       "    <tr>\n",
       "      <th>195</th>\n",
       "      <td>-0.027111</td>\n",
       "      <td>1</td>\n",
       "      <td>13.368749</td>\n",
       "    </tr>\n",
       "    <tr>\n",
       "      <th>196</th>\n",
       "      <td>-1.520284</td>\n",
       "      <td>1</td>\n",
       "      <td>13.958111</td>\n",
       "    </tr>\n",
       "    <tr>\n",
       "      <th>197</th>\n",
       "      <td>-1.227090</td>\n",
       "      <td>1</td>\n",
       "      <td>13.976362</td>\n",
       "    </tr>\n",
       "    <tr>\n",
       "      <th>198</th>\n",
       "      <td>-0.724484</td>\n",
       "      <td>1</td>\n",
       "      <td>8.581417</td>\n",
       "    </tr>\n",
       "    <tr>\n",
       "      <th>199</th>\n",
       "      <td>-1.616109</td>\n",
       "      <td>1</td>\n",
       "      <td>12.082913</td>\n",
       "    </tr>\n",
       "  </tbody>\n",
       "</table>\n",
       "<p>200 rows × 3 columns</p>\n",
       "</div>"
      ],
      "text/plain": [
       "           x1  x2          y\n",
       "0   -1.383423   0  10.677616\n",
       "1    0.491178   0  18.885513\n",
       "2   -0.528827   0  11.246081\n",
       "3   -0.359455   0   9.364583\n",
       "4    0.173340   0  13.434298\n",
       "..        ...  ..        ...\n",
       "195 -0.027111   1  13.368749\n",
       "196 -1.520284   1  13.958111\n",
       "197 -1.227090   1  13.976362\n",
       "198 -0.724484   1   8.581417\n",
       "199 -1.616109   1  12.082913\n",
       "\n",
       "[200 rows x 3 columns]"
      ]
     },
     "execution_count": 6,
     "metadata": {},
     "output_type": "execute_result"
    }
   ],
   "source": [
    "df.drop('time', axis=1, inplace=True)\n",
    "df"
   ]
  },
  {
   "cell_type": "code",
   "execution_count": 7,
   "id": "83a2879b",
   "metadata": {},
   "outputs": [
    {
     "data": {
      "text/html": [
       "<div>\n",
       "<style scoped>\n",
       "    .dataframe tbody tr th:only-of-type {\n",
       "        vertical-align: middle;\n",
       "    }\n",
       "\n",
       "    .dataframe tbody tr th {\n",
       "        vertical-align: top;\n",
       "    }\n",
       "\n",
       "    .dataframe thead th {\n",
       "        text-align: right;\n",
       "    }\n",
       "</style>\n",
       "<table border=\"1\" class=\"dataframe\">\n",
       "  <thead>\n",
       "    <tr style=\"text-align: right;\">\n",
       "      <th></th>\n",
       "      <th>x_1</th>\n",
       "      <th>x_1^2</th>\n",
       "      <th>x_1^3</th>\n",
       "      <th>x_1^4</th>\n",
       "      <th>x_1^5</th>\n",
       "      <th>x_2</th>\n",
       "      <th>bias</th>\n",
       "      <th>y</th>\n",
       "    </tr>\n",
       "  </thead>\n",
       "  <tbody>\n",
       "    <tr>\n",
       "      <th>0</th>\n",
       "      <td>-1.383423</td>\n",
       "      <td>1.913859</td>\n",
       "      <td>-2.647676</td>\n",
       "      <td>3.662855e+00</td>\n",
       "      <td>-5.067278e+00</td>\n",
       "      <td>0</td>\n",
       "      <td>1</td>\n",
       "      <td>10.677616</td>\n",
       "    </tr>\n",
       "    <tr>\n",
       "      <th>1</th>\n",
       "      <td>0.491178</td>\n",
       "      <td>0.241256</td>\n",
       "      <td>0.118500</td>\n",
       "      <td>5.820455e-02</td>\n",
       "      <td>2.858882e-02</td>\n",
       "      <td>0</td>\n",
       "      <td>1</td>\n",
       "      <td>18.885513</td>\n",
       "    </tr>\n",
       "    <tr>\n",
       "      <th>2</th>\n",
       "      <td>-0.528827</td>\n",
       "      <td>0.279658</td>\n",
       "      <td>-0.147891</td>\n",
       "      <td>7.820868e-02</td>\n",
       "      <td>-4.135887e-02</td>\n",
       "      <td>0</td>\n",
       "      <td>1</td>\n",
       "      <td>11.246081</td>\n",
       "    </tr>\n",
       "    <tr>\n",
       "      <th>3</th>\n",
       "      <td>-0.359455</td>\n",
       "      <td>0.129208</td>\n",
       "      <td>-0.046444</td>\n",
       "      <td>1.669465e-02</td>\n",
       "      <td>-6.000972e-03</td>\n",
       "      <td>0</td>\n",
       "      <td>1</td>\n",
       "      <td>9.364583</td>\n",
       "    </tr>\n",
       "    <tr>\n",
       "      <th>4</th>\n",
       "      <td>0.173340</td>\n",
       "      <td>0.030047</td>\n",
       "      <td>0.005208</td>\n",
       "      <td>9.028070e-04</td>\n",
       "      <td>1.564925e-04</td>\n",
       "      <td>0</td>\n",
       "      <td>1</td>\n",
       "      <td>13.434298</td>\n",
       "    </tr>\n",
       "    <tr>\n",
       "      <th>...</th>\n",
       "      <td>...</td>\n",
       "      <td>...</td>\n",
       "      <td>...</td>\n",
       "      <td>...</td>\n",
       "      <td>...</td>\n",
       "      <td>...</td>\n",
       "      <td>...</td>\n",
       "      <td>...</td>\n",
       "    </tr>\n",
       "    <tr>\n",
       "      <th>195</th>\n",
       "      <td>-0.027111</td>\n",
       "      <td>0.000735</td>\n",
       "      <td>-0.000020</td>\n",
       "      <td>5.402436e-07</td>\n",
       "      <td>-1.464661e-08</td>\n",
       "      <td>1</td>\n",
       "      <td>1</td>\n",
       "      <td>13.368749</td>\n",
       "    </tr>\n",
       "    <tr>\n",
       "      <th>196</th>\n",
       "      <td>-1.520284</td>\n",
       "      <td>2.311263</td>\n",
       "      <td>-3.513776</td>\n",
       "      <td>5.341938e+00</td>\n",
       "      <td>-8.121262e+00</td>\n",
       "      <td>1</td>\n",
       "      <td>1</td>\n",
       "      <td>13.958111</td>\n",
       "    </tr>\n",
       "    <tr>\n",
       "      <th>197</th>\n",
       "      <td>-1.227090</td>\n",
       "      <td>1.505750</td>\n",
       "      <td>-1.847691</td>\n",
       "      <td>2.267284e+00</td>\n",
       "      <td>-2.782162e+00</td>\n",
       "      <td>1</td>\n",
       "      <td>1</td>\n",
       "      <td>13.976362</td>\n",
       "    </tr>\n",
       "    <tr>\n",
       "      <th>198</th>\n",
       "      <td>-0.724484</td>\n",
       "      <td>0.524877</td>\n",
       "      <td>-0.380265</td>\n",
       "      <td>2.754963e-01</td>\n",
       "      <td>-1.995927e-01</td>\n",
       "      <td>1</td>\n",
       "      <td>1</td>\n",
       "      <td>8.581417</td>\n",
       "    </tr>\n",
       "    <tr>\n",
       "      <th>199</th>\n",
       "      <td>-1.616109</td>\n",
       "      <td>2.611809</td>\n",
       "      <td>-4.220969</td>\n",
       "      <td>6.821547e+00</td>\n",
       "      <td>-1.102437e+01</td>\n",
       "      <td>1</td>\n",
       "      <td>1</td>\n",
       "      <td>12.082913</td>\n",
       "    </tr>\n",
       "  </tbody>\n",
       "</table>\n",
       "<p>200 rows × 8 columns</p>\n",
       "</div>"
      ],
      "text/plain": [
       "          x_1     x_1^2     x_1^3         x_1^4         x_1^5  x_2  bias  \\\n",
       "0   -1.383423  1.913859 -2.647676  3.662855e+00 -5.067278e+00    0     1   \n",
       "1    0.491178  0.241256  0.118500  5.820455e-02  2.858882e-02    0     1   \n",
       "2   -0.528827  0.279658 -0.147891  7.820868e-02 -4.135887e-02    0     1   \n",
       "3   -0.359455  0.129208 -0.046444  1.669465e-02 -6.000972e-03    0     1   \n",
       "4    0.173340  0.030047  0.005208  9.028070e-04  1.564925e-04    0     1   \n",
       "..        ...       ...       ...           ...           ...  ...   ...   \n",
       "195 -0.027111  0.000735 -0.000020  5.402436e-07 -1.464661e-08    1     1   \n",
       "196 -1.520284  2.311263 -3.513776  5.341938e+00 -8.121262e+00    1     1   \n",
       "197 -1.227090  1.505750 -1.847691  2.267284e+00 -2.782162e+00    1     1   \n",
       "198 -0.724484  0.524877 -0.380265  2.754963e-01 -1.995927e-01    1     1   \n",
       "199 -1.616109  2.611809 -4.220969  6.821547e+00 -1.102437e+01    1     1   \n",
       "\n",
       "             y  \n",
       "0    10.677616  \n",
       "1    18.885513  \n",
       "2    11.246081  \n",
       "3     9.364583  \n",
       "4    13.434298  \n",
       "..         ...  \n",
       "195  13.368749  \n",
       "196  13.958111  \n",
       "197  13.976362  \n",
       "198   8.581417  \n",
       "199  12.082913  \n",
       "\n",
       "[200 rows x 8 columns]"
      ]
     },
     "execution_count": 7,
     "metadata": {},
     "output_type": "execute_result"
    }
   ],
   "source": [
    "bias = np.repeat(1,200)\n",
    "df = {'x_1':df['x1'],'x_1^2':np.power(df['x1'],2),'x_1^3':np.power(df['x1'],3),'x_1^4':np.power(df['x1'],4),'x_1^5':np.power(df['x1'],5),'x_2':df['x2'],'bias':bias,'y':df['y']}\n",
    "df = pd.DataFrame(data=df,columns=['x_1','x_1^2','x_1^3','x_1^4','x_1^5','x_2','bias','y'])\n",
    "df"
   ]
  },
  {
   "cell_type": "code",
   "execution_count": 8,
   "id": "7fb7f66d",
   "metadata": {},
   "outputs": [
    {
     "data": {
      "text/plain": [
       "x_1      0\n",
       "x_1^2    0\n",
       "x_1^3    0\n",
       "x_1^4    0\n",
       "x_1^5    0\n",
       "x_2      0\n",
       "bias     0\n",
       "y        0\n",
       "dtype: int64"
      ]
     },
     "execution_count": 8,
     "metadata": {},
     "output_type": "execute_result"
    }
   ],
   "source": [
    "df.isnull().sum()"
   ]
  },
  {
   "cell_type": "code",
   "execution_count": 9,
   "id": "27897bc3",
   "metadata": {},
   "outputs": [],
   "source": [
    "# Data for the first Model\n",
    "x1 = df.loc[:,['x_1^3','x_1^5','x_2','bias']]\n",
    "y = df.loc[:,'y']"
   ]
  },
  {
   "cell_type": "code",
   "execution_count": 10,
   "id": "506492cf",
   "metadata": {},
   "outputs": [
    {
     "data": {
      "text/html": [
       "<div>\n",
       "<style scoped>\n",
       "    .dataframe tbody tr th:only-of-type {\n",
       "        vertical-align: middle;\n",
       "    }\n",
       "\n",
       "    .dataframe tbody tr th {\n",
       "        vertical-align: top;\n",
       "    }\n",
       "\n",
       "    .dataframe thead th {\n",
       "        text-align: right;\n",
       "    }\n",
       "</style>\n",
       "<table border=\"1\" class=\"dataframe\">\n",
       "  <thead>\n",
       "    <tr style=\"text-align: right;\">\n",
       "      <th></th>\n",
       "      <th>x_1^3</th>\n",
       "      <th>x_1^5</th>\n",
       "      <th>x_2</th>\n",
       "      <th>bias</th>\n",
       "    </tr>\n",
       "  </thead>\n",
       "  <tbody>\n",
       "    <tr>\n",
       "      <th>0</th>\n",
       "      <td>-2.647676</td>\n",
       "      <td>-5.067278e+00</td>\n",
       "      <td>0</td>\n",
       "      <td>1</td>\n",
       "    </tr>\n",
       "    <tr>\n",
       "      <th>1</th>\n",
       "      <td>0.118500</td>\n",
       "      <td>2.858882e-02</td>\n",
       "      <td>0</td>\n",
       "      <td>1</td>\n",
       "    </tr>\n",
       "    <tr>\n",
       "      <th>2</th>\n",
       "      <td>-0.147891</td>\n",
       "      <td>-4.135887e-02</td>\n",
       "      <td>0</td>\n",
       "      <td>1</td>\n",
       "    </tr>\n",
       "    <tr>\n",
       "      <th>3</th>\n",
       "      <td>-0.046444</td>\n",
       "      <td>-6.000972e-03</td>\n",
       "      <td>0</td>\n",
       "      <td>1</td>\n",
       "    </tr>\n",
       "    <tr>\n",
       "      <th>4</th>\n",
       "      <td>0.005208</td>\n",
       "      <td>1.564925e-04</td>\n",
       "      <td>0</td>\n",
       "      <td>1</td>\n",
       "    </tr>\n",
       "    <tr>\n",
       "      <th>...</th>\n",
       "      <td>...</td>\n",
       "      <td>...</td>\n",
       "      <td>...</td>\n",
       "      <td>...</td>\n",
       "    </tr>\n",
       "    <tr>\n",
       "      <th>195</th>\n",
       "      <td>-0.000020</td>\n",
       "      <td>-1.464661e-08</td>\n",
       "      <td>1</td>\n",
       "      <td>1</td>\n",
       "    </tr>\n",
       "    <tr>\n",
       "      <th>196</th>\n",
       "      <td>-3.513776</td>\n",
       "      <td>-8.121262e+00</td>\n",
       "      <td>1</td>\n",
       "      <td>1</td>\n",
       "    </tr>\n",
       "    <tr>\n",
       "      <th>197</th>\n",
       "      <td>-1.847691</td>\n",
       "      <td>-2.782162e+00</td>\n",
       "      <td>1</td>\n",
       "      <td>1</td>\n",
       "    </tr>\n",
       "    <tr>\n",
       "      <th>198</th>\n",
       "      <td>-0.380265</td>\n",
       "      <td>-1.995927e-01</td>\n",
       "      <td>1</td>\n",
       "      <td>1</td>\n",
       "    </tr>\n",
       "    <tr>\n",
       "      <th>199</th>\n",
       "      <td>-4.220969</td>\n",
       "      <td>-1.102437e+01</td>\n",
       "      <td>1</td>\n",
       "      <td>1</td>\n",
       "    </tr>\n",
       "  </tbody>\n",
       "</table>\n",
       "<p>200 rows × 4 columns</p>\n",
       "</div>"
      ],
      "text/plain": [
       "        x_1^3         x_1^5  x_2  bias\n",
       "0   -2.647676 -5.067278e+00    0     1\n",
       "1    0.118500  2.858882e-02    0     1\n",
       "2   -0.147891 -4.135887e-02    0     1\n",
       "3   -0.046444 -6.000972e-03    0     1\n",
       "4    0.005208  1.564925e-04    0     1\n",
       "..        ...           ...  ...   ...\n",
       "195 -0.000020 -1.464661e-08    1     1\n",
       "196 -3.513776 -8.121262e+00    1     1\n",
       "197 -1.847691 -2.782162e+00    1     1\n",
       "198 -0.380265 -1.995927e-01    1     1\n",
       "199 -4.220969 -1.102437e+01    1     1\n",
       "\n",
       "[200 rows x 4 columns]"
      ]
     },
     "execution_count": 10,
     "metadata": {},
     "output_type": "execute_result"
    }
   ],
   "source": [
    "x1"
   ]
  },
  {
   "cell_type": "code",
   "execution_count": 11,
   "id": "0cdd06ae",
   "metadata": {},
   "outputs": [],
   "source": [
    "## nom_variables = all the features including the bias in the model \n",
    "## example model1 = x_1^3 + x_1^5 _ x_2 + bias, \n",
    "## that means we have num_variables = 4\n",
    "\n",
    "## Here i made a function to multi variable gradient decent to find \n",
    "## the best parameters to converge the data and to generalize on all 5 models\n",
    "def multi_variable(x_point,y_points,learn_rate,nom_iteration,nom_variables):\n",
    "    m = len(x_point)\n",
    "    theta = np.repeat(0,nom_variables).reshape(nom_variables,1)\n",
    "    cost_fun_all = []\n",
    "    theta_all = []\n",
    "    y_points = np.array(y_points).reshape(-1,1)\n",
    "    \n",
    "    for i in range(nom_iteration):\n",
    "        theta_all.append(theta)\n",
    "        y_pred = np.dot(x_point,theta) \n",
    "        #print(y_pred)\n",
    "        \n",
    "        error = y_pred - y_points\n",
    "        \n",
    "        cost_fun = (1/(2*m)) * np.sum(np.square(error))\n",
    "        cost_fun_all.append(cost_fun)\n",
    "        \n",
    "        grad = (1/m) *np.sum(np.dot(error.T,x_point))\n",
    "        \n",
    "        theta = theta - learn_rate*grad\n",
    "        #print(theta)\n",
    "        if i > 1 :\n",
    "            if np.abs((cost_fun_all[i] - cost_fun_all[i-1])) < 0.0001:\n",
    "                break\n",
    "                \n",
    "            if np.linalg.norm(theta_all[i]-theta_all[i-1]) < 0.0001:\n",
    "                break \n",
    "            if np.linalg.norm(grad) < 0.0001:\n",
    "                break\n",
    "        \n",
    "    return y_pred,theta_all,cost_fun_all,i+1"
   ]
  },
  {
   "cell_type": "code",
   "execution_count": 12,
   "id": "858d0eb4",
   "metadata": {},
   "outputs": [],
   "source": [
    "y_pred1,theta_all,cost,nom_iter = multi_variable(x1,y,0.0001,10000,4)"
   ]
  },
  {
   "cell_type": "code",
   "execution_count": 13,
   "id": "ae1ce941",
   "metadata": {},
   "outputs": [
    {
     "data": {
      "image/png": "[encoded data removed]",
      "text/plain": [
       "<Figure size 576x432 with 1 Axes>"
      ]
     },
     "metadata": {
      "needs_background": "light"
     },
     "output_type": "display_data"
    }
   ],
   "source": [
    "plt.figure(figsize=(8,6))\n",
    "plt.plot(np.arange(nom_iter),cost);\n",
    "plt.xlabel('Iteration',fontsize=10,color='b')\n",
    "plt.ylabel('Cost Function',fontsize=10,color='b')\n",
    "plt.title('Cost vs Iteration',fontsize=12,color='b');"
   ]
  },
  {
   "cell_type": "code",
   "execution_count": 14,
   "id": "0f45ea6a",
   "metadata": {},
   "outputs": [
    {
     "data": {
      "text/plain": [
       "461.6503878377522"
      ]
     },
     "execution_count": 14,
     "metadata": {},
     "output_type": "execute_result"
    }
   ],
   "source": [
    "model_error1= mean_squared_error(y,y_pred1)\n",
    "model_error1"
   ]
  },
  {
   "cell_type": "code",
   "execution_count": 15,
   "id": "a04b4861",
   "metadata": {},
   "outputs": [
    {
     "name": "stdout",
     "output_type": "stream",
     "text": [
      "data converged after 42 iteration\n"
     ]
    }
   ],
   "source": [
    "print(f\"data converged after {nom_iter} iteration\")"
   ]
  },
  {
   "cell_type": "code",
   "execution_count": 16,
   "id": "ca585d2b",
   "metadata": {},
   "outputs": [],
   "source": [
    "## AIC FOR THE FIRST MODEL \n",
    "# calculate aic for model1\n",
    "def calculate_aic(n, mse, num_parameters):\n",
    "    aic = n * np.log(mse) + 2 * num_parameters\n",
    "    return aic\n",
    "\n"
   ]
  },
  {
   "cell_type": "code",
   "execution_count": 67,
   "id": "a46654b8",
   "metadata": {},
   "outputs": [
    {
     "name": "stdout",
     "output_type": "stream",
     "text": [
      "AIC: 1234.962\n"
     ]
    }
   ],
   "source": [
    "# calculate the aic for model1\n",
    "aic1 = calculate_aic(len(y), model_error1, 4)\n",
    "print('AIC: %.3f' % aic1)"
   ]
  },
  {
   "cell_type": "code",
   "execution_count": 68,
   "id": "214ce1b4",
   "metadata": {},
   "outputs": [],
   "source": [
    "# calculate bic for model1\n",
    "def calculate_bic(n, mse, num_parameters):\n",
    "    bic = n * np.log(mse) + num_parameters * np.log(n)\n",
    "    return bic\n"
   ]
  },
  {
   "cell_type": "code",
   "execution_count": 69,
   "id": "78097fa6",
   "metadata": {},
   "outputs": [
    {
     "name": "stdout",
     "output_type": "stream",
     "text": [
      "BIC: 1248.155\n"
     ]
    }
   ],
   "source": [
    "# calculate the bic\n",
    "bic1 = calculate_bic(len(y), model_error1, 4)\n",
    "print('BIC: %.3f' % bic1)\n"
   ]
  },
  {
   "cell_type": "markdown",
   "id": "e5c6ce70",
   "metadata": {},
   "source": [
    "## For the second Model"
   ]
  },
  {
   "cell_type": "code",
   "execution_count": 70,
   "id": "43a63475",
   "metadata": {},
   "outputs": [],
   "source": [
    "# Data for the second Model\n",
    "x2 = df.loc[:,['x_1','x_2','bias']]\n",
    "y = df.loc[:,'y']"
   ]
  },
  {
   "cell_type": "code",
   "execution_count": 71,
   "id": "bcbe0416",
   "metadata": {},
   "outputs": [],
   "source": [
    "y_pred2,theta_all,cost,nom_iter = multi_variable(x2,y,0.01,170,3)"
   ]
  },
  {
   "cell_type": "code",
   "execution_count": 72,
   "id": "91919df3",
   "metadata": {},
   "outputs": [
    {
     "data": {
      "image/png": "[encoded data removed]",
      "text/plain": [
       "<Figure size 576x432 with 1 Axes>"
      ]
     },
     "metadata": {
      "needs_background": "light"
     },
     "output_type": "display_data"
    }
   ],
   "source": [
    "plt.figure(figsize=(8,6))\n",
    "plt.plot(np.arange(nom_iter),cost);\n",
    "plt.xlabel('Iteration',fontsize=10,color='b')\n",
    "plt.ylabel('Cost Function',fontsize=10,color='b')\n",
    "plt.title('Cost vs Iteration',fontsize=12,color='b');"
   ]
  },
  {
   "cell_type": "code",
   "execution_count": 73,
   "id": "b8be713f",
   "metadata": {},
   "outputs": [
    {
     "data": {
      "text/plain": [
       "80.28070399951328"
      ]
     },
     "execution_count": 73,
     "metadata": {},
     "output_type": "execute_result"
    }
   ],
   "source": [
    "model_error2 = mean_squared_error(y,y_pred2)\n",
    "model_error2"
   ]
  },
  {
   "cell_type": "code",
   "execution_count": 74,
   "id": "e3d9a178",
   "metadata": {},
   "outputs": [
    {
     "name": "stdout",
     "output_type": "stream",
     "text": [
      "data converged after 155 iteration\n"
     ]
    }
   ],
   "source": [
    "print(f\"data converged after {nom_iter} iteration\")\n"
   ]
  },
  {
   "cell_type": "code",
   "execution_count": 75,
   "id": "8efd62cd",
   "metadata": {},
   "outputs": [
    {
     "name": "stdout",
     "output_type": "stream",
     "text": [
      "AIC: 883.106\n"
     ]
    }
   ],
   "source": [
    "## AIC & BIC FOR THE Second MODEL \n",
    "\n",
    "\n",
    "def calculate_aic(n, mse, num_params):\n",
    "    aic = n * np.log(mse) + 2 * num_params\n",
    "    return aic\n",
    "\n",
    "aic2= calculate_aic(len(x2), model_error2, 3)\n",
    "print('AIC: %.3f' % aic2)"
   ]
  },
  {
   "cell_type": "code",
   "execution_count": 76,
   "id": "b0592882",
   "metadata": {},
   "outputs": [
    {
     "name": "stdout",
     "output_type": "stream",
     "text": [
      "BIC: 893.001\n"
     ]
    }
   ],
   "source": [
    "# calculate bic for Model2\n",
    "def calculate_bic(n, mse, num_params):\n",
    "    bic = n * np.log(mse) + num_params * np.log(n)\n",
    "    return bic\n",
    "# calculate the bic\n",
    "bic2 = calculate_bic(len(x2), model_error2, 3)\n",
    "print('BIC: %.3f' % bic2)"
   ]
  },
  {
   "cell_type": "markdown",
   "id": "d9a26427",
   "metadata": {},
   "source": [
    "## For the Third Model"
   ]
  },
  {
   "cell_type": "code",
   "execution_count": 77,
   "id": "7424d002",
   "metadata": {},
   "outputs": [],
   "source": [
    "# Data for the third model\n",
    "x3 = df.loc[:,['x_1','x_1^2','x_1^4','x_2','bias']]\n",
    "y = df.loc[:,'y']"
   ]
  },
  {
   "cell_type": "code",
   "execution_count": 78,
   "id": "1fe2059d",
   "metadata": {},
   "outputs": [],
   "source": [
    "y_pred3,theta_all,cost,nom_iter = multi_variable(x3,y,0.001,10000,5)"
   ]
  },
  {
   "cell_type": "code",
   "execution_count": 79,
   "id": "264e9699",
   "metadata": {},
   "outputs": [
    {
     "data": {
      "image/png": "[encoded data removed]",
      "text/plain": [
       "<Figure size 576x432 with 1 Axes>"
      ]
     },
     "metadata": {
      "needs_background": "light"
     },
     "output_type": "display_data"
    }
   ],
   "source": [
    "plt.figure(figsize=(8,6))\n",
    "plt.plot(np.arange(nom_iter),cost);\n",
    "plt.xlabel('Iteration',fontsize=10,color='b')\n",
    "plt.ylabel('Cost Function',fontsize=10,color='b')\n",
    "plt.title('Cost vs Iteration',fontsize=12,color='b');"
   ]
  },
  {
   "cell_type": "code",
   "execution_count": 80,
   "id": "009ef878",
   "metadata": {},
   "outputs": [
    {
     "data": {
      "text/plain": [
       "298.5779760085269"
      ]
     },
     "execution_count": 80,
     "metadata": {},
     "output_type": "execute_result"
    }
   ],
   "source": [
    "model_error3= mean_squared_error(y,y_pred3)\n",
    "model_error3"
   ]
  },
  {
   "cell_type": "code",
   "execution_count": 81,
   "id": "6d36c465",
   "metadata": {},
   "outputs": [
    {
     "name": "stdout",
     "output_type": "stream",
     "text": [
      "data converged after 35 iteration\n"
     ]
    }
   ],
   "source": [
    "print(f\"data converged after {nom_iter} iteration\")\n"
   ]
  },
  {
   "cell_type": "code",
   "execution_count": 82,
   "id": "bf2a90bb",
   "metadata": {},
   "outputs": [
    {
     "name": "stdout",
     "output_type": "stream",
     "text": [
      "AIC: 1149.806\n"
     ]
    }
   ],
   "source": [
    "# ## AIC & BIC FOR THE Third MODEL \n",
    "\n",
    "\n",
    "# calculate aic for model3\n",
    "def calculate_aic(n, mse, num_params):\n",
    "    aic = n * np.log(mse) + 2 * num_params\n",
    "    return aic\n",
    "# calculate the aic\n",
    "aic3 = calculate_aic(len(y), model_error3, 5)\n",
    "print('AIC: %.3f' % aic3)"
   ]
  },
  {
   "cell_type": "code",
   "execution_count": 83,
   "id": "d19f7d55",
   "metadata": {},
   "outputs": [
    {
     "name": "stdout",
     "output_type": "stream",
     "text": [
      "BIC: 1166.298\n"
     ]
    }
   ],
   "source": [
    "# calculate bic for model 3\n",
    "def calculate_bic(n, mse, num_params):\n",
    "    bic = n * np.log(mse) + num_params * np.log(n)\n",
    "    return bic\n",
    "# calculate the bic\n",
    "bic3 = calculate_bic(len(y), model_error3, 5)\n",
    "print('BIC: %.3f' % bic3)"
   ]
  },
  {
   "cell_type": "markdown",
   "id": "19723b37",
   "metadata": {},
   "source": [
    "## For the fourth Model"
   ]
  },
  {
   "cell_type": "code",
   "execution_count": 84,
   "id": "763ab734",
   "metadata": {},
   "outputs": [],
   "source": [
    "#Data for the fourth model\n",
    "x4 = df.loc[:,['x_1','x_1^2','x_1^3','x_1^5','x_2','bias']]\n",
    "y = df.loc[:,'y']"
   ]
  },
  {
   "cell_type": "code",
   "execution_count": 85,
   "id": "bdaf1c0f",
   "metadata": {},
   "outputs": [],
   "source": [
    "y_pred4,theta_all,cost,nom_iter = multi_variable(x4,y,0.0001,100000,6)"
   ]
  },
  {
   "cell_type": "code",
   "execution_count": 86,
   "id": "bb563c32",
   "metadata": {},
   "outputs": [
    {
     "data": {
      "image/png": "[encoded data removed]",
      "text/plain": [
       "<Figure size 576x432 with 1 Axes>"
      ]
     },
     "metadata": {
      "needs_background": "light"
     },
     "output_type": "display_data"
    }
   ],
   "source": [
    "plt.figure(figsize=(8,6))\n",
    "plt.plot(np.arange(nom_iter),cost);\n",
    "plt.xlabel('Iteration',fontsize=10,color='b')\n",
    "plt.ylabel('Cost Function',fontsize=10,color='b')\n",
    "plt.title('Cost vs Iteration',fontsize=12,color='b');"
   ]
  },
  {
   "cell_type": "code",
   "execution_count": 87,
   "id": "7b73d044",
   "metadata": {},
   "outputs": [
    {
     "data": {
      "text/plain": [
       "449.4716806872029"
      ]
     },
     "execution_count": 87,
     "metadata": {},
     "output_type": "execute_result"
    }
   ],
   "source": [
    "model_error4= mean_squared_error(y,y_pred4)\n",
    "model_error4"
   ]
  },
  {
   "cell_type": "code",
   "execution_count": 88,
   "id": "25a1130b",
   "metadata": {},
   "outputs": [
    {
     "name": "stdout",
     "output_type": "stream",
     "text": [
      "data converged (reached to the best parameters) after 43 iteration\n"
     ]
    }
   ],
   "source": [
    "print(f\"data converged (reached to the best parameters) after {nom_iter} iteration\")\n"
   ]
  },
  {
   "cell_type": "code",
   "execution_count": 89,
   "id": "bf164cdf",
   "metadata": {},
   "outputs": [
    {
     "name": "stdout",
     "output_type": "stream",
     "text": [
      "AIC: 1233.615\n"
     ]
    }
   ],
   "source": [
    "## AIC & BIC FOR THE Fourth MODEL \n",
    "def calculate_aic(n, mse, num_params):\n",
    "    aic = n * np.log(mse) + 2 * num_params\n",
    "    return aic\n",
    "# calculate the aic for model4\n",
    "aic4 = calculate_aic(len(y), model_error4, 6)\n",
    "print('AIC: %.3f' % aic4)"
   ]
  },
  {
   "cell_type": "code",
   "execution_count": 90,
   "id": "372eb5e4",
   "metadata": {},
   "outputs": [
    {
     "name": "stdout",
     "output_type": "stream",
     "text": [
      "BIC: 1253.404\n"
     ]
    }
   ],
   "source": [
    "# calculate bic for model4\n",
    "def calculate_bic(n, mse, num_params=6):\n",
    "    bic = n * np.log(mse) + num_params * np.log(n)\n",
    "    return bic\n",
    "# calculate the bic\n",
    "bic4 = calculate_bic(len(y), model_error4, 6)\n",
    "print('BIC: %.3f' % bic4)"
   ]
  },
  {
   "cell_type": "markdown",
   "id": "8d03f9e6",
   "metadata": {},
   "source": [
    "## For the fivth model "
   ]
  },
  {
   "cell_type": "code",
   "execution_count": 91,
   "id": "d6acec9f",
   "metadata": {},
   "outputs": [],
   "source": [
    "# Data for the fivth model \n",
    "x5 = df.loc[:,['x_1','x_1^3','x_1^4','x_2','bias']]\n",
    "y = df.loc[:,'y']"
   ]
  },
  {
   "cell_type": "code",
   "execution_count": 92,
   "id": "1f9ecbf9",
   "metadata": {},
   "outputs": [],
   "source": [
    "y_pred5,theta_all,cost,nom_iter = multi_variable(x5,y,0.001,100000,5)"
   ]
  },
  {
   "cell_type": "code",
   "execution_count": 93,
   "id": "3c728aa3",
   "metadata": {},
   "outputs": [
    {
     "data": {
      "image/png": "[encoded data removed]",
      "text/plain": [
       "<Figure size 576x432 with 1 Axes>"
      ]
     },
     "metadata": {
      "needs_background": "light"
     },
     "output_type": "display_data"
    }
   ],
   "source": [
    "plt.figure(figsize=(8,6))\n",
    "plt.plot(np.arange(nom_iter),cost);\n",
    "plt.xlabel('Iteration',fontsize=10,color='b')\n",
    "plt.ylabel('Cost Function',fontsize=10,color='b')\n",
    "plt.title('Cost vs Iteration',fontsize=12,color='b');"
   ]
  },
  {
   "cell_type": "code",
   "execution_count": 94,
   "id": "d19e77ce",
   "metadata": {},
   "outputs": [
    {
     "data": {
      "text/plain": [
       "247.05733059386918"
      ]
     },
     "execution_count": 94,
     "metadata": {},
     "output_type": "execute_result"
    }
   ],
   "source": [
    "model_error5= mean_squared_error(y,y_pred5)\n",
    "model_error5"
   ]
  },
  {
   "cell_type": "code",
   "execution_count": 95,
   "id": "095f6e07",
   "metadata": {},
   "outputs": [
    {
     "name": "stdout",
     "output_type": "stream",
     "text": [
      "data converged after 45 iteration\n"
     ]
    }
   ],
   "source": [
    "#for the fivth model\n",
    "#data will find the best parameters (converge) after (nom_iter) iteration\n",
    "print(f\"data converged after {nom_iter} iteration\")\n"
   ]
  },
  {
   "cell_type": "code",
   "execution_count": 96,
   "id": "8825fdcc",
   "metadata": {},
   "outputs": [
    {
     "name": "stdout",
     "output_type": "stream",
     "text": [
      "AIC: 1111.924\n"
     ]
    }
   ],
   "source": [
    "## AIC & BIC FOR THE fith MODEL \n",
    "\n",
    "# calculate aic for model5\n",
    "def calculate_aic(n, mse, num_params):\n",
    "    aic = n * np.log(mse) + 2 * num_params\n",
    "    return aic\n",
    "# calculate the aic\n",
    "aic5 = calculate_aic(len(y), model_error5, 5)\n",
    "print('AIC: %.3f' % aic5)"
   ]
  },
  {
   "cell_type": "code",
   "execution_count": 97,
   "id": "9dff59a4",
   "metadata": {},
   "outputs": [
    {
     "name": "stdout",
     "output_type": "stream",
     "text": [
      "BIC: 1128.416\n"
     ]
    }
   ],
   "source": [
    "# calculate bic for model5\n",
    "def calculate_bic(n, mse, num_params):\n",
    "    bic = n * np.log(mse) + num_params * np.log(n)\n",
    "    return bic\n",
    "# calculate the bic\n",
    "bic5 = calculate_bic(len(y), model_error5, 5)\n",
    "print('BIC: %.3f' % bic5)"
   ]
  },
  {
   "cell_type": "code",
   "execution_count": 98,
   "id": "f2bc66d0",
   "metadata": {},
   "outputs": [
    {
     "name": "stdout",
     "output_type": "stream",
     "text": [
      "The best model is the one that provides the minimum BIC and minimum AIC which is Model 2\n",
      "that have 883.1058586382096  aic value and 893.0008107378537 bic value\n"
     ]
    }
   ],
   "source": [
    "print(f\"The best model is the one that provides the minimum BIC and minimum AIC which is Model 2\\nthat have {aic2}  aic value and {bic2} bic value\")\n"
   ]
  }
 ],
 "metadata": {
  "kernelspec": {
   "display_name": "Python 3",
   "language": "python",
   "name": "python3"
  },
  "language_info": {
   "codemirror_mode": {
    "name": "ipython",
    "version": 3
   },
   "file_extension": ".py",
   "mimetype": "text/x-python",
   "name": "python",
   "nbconvert_exporter": "python",
   "pygments_lexer": "ipython3",
   "version": "3.8.8"
  }
 },
 "nbformat": 4,
 "nbformat_minor": 5
}
